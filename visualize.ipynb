{
 "cells": [
  {
   "cell_type": "code",
   "execution_count": null,
   "metadata": {},
   "outputs": [
    {
     "name": "stdout",
     "output_type": "stream",
     "text": [
      "The autoreload extension is already loaded. To reload it, use:\n",
      "  %reload_ext autoreload\n"
     ]
    }
   ],
   "source": [
    "%load_ext autoreload\n",
    "%autoreload 2"
   ]
  },
  {
   "cell_type": "code",
   "execution_count": 328,
   "metadata": {},
   "outputs": [],
   "source": [
    "from dataio.genetics import GeneticDataset, GeneticOneHot\n",
    "import pandas as pd\n",
    "import torch\n",
    "from model.utils import decode_onehot\n",
    "import matplotlib.pyplot as plt\n",
    "from model.ppnet import PPNet"
   ]
  },
  {
   "cell_type": "code",
   "execution_count": 329,
   "metadata": {},
   "outputs": [],
   "source": [
    "# TRAIN_PATH = \"datasets/genetics/small_diptera_family-train.tsv\"\n",
    "TRAIN_PATH = \"datasets/genetics/large_diptera_family-train-species-Metriocnemus_augmented.tsv\"\n",
    "\n",
    "PUSH_PATH = \"datasets/genetics/large_diptera_family-train-species-Metriocnemus_chopped.tsv\"\n",
    "# VALIDATION_PATH = \"datasets/genetics/small_diptera_family-validation.tsv\"\n",
    "VALIDATION_PATH = \"data/BIOSCAN-1M/large_diptera_family-validation.tsv\"\n",
    "# TAXONOMY_NAME = \"family\"\n",
    "TAXONOMY_NAME = \"species\"\n",
    "# PROTOTYPE_PATH = \"saved_models/genetics/prototype_saving_test_images/epoch-80/genetic-string.csv\"\n",
    "# PROTOTYPE_PATH = \"saved_models/genetics/prototype_saving_test_images/real_run/epoch-10/genetic-string.csv\"\n",
    "# WEIGHT_PATH = \"saved_models/genetics/prototype_saving_test_images/real_run/10_push_weights.pth\"\n",
    "# PROTOTYPE_PATH = \"saved_models/genetics/family_test_images/epoch-10/genetic-string.csv\"\n",
    "PROTOTYPE_PATH = \"saved_models/genetics/metriocnemus_images/epoch-5/genetic-string.csv\"\n",
    "WEIGHT_PATH = \"saved_models/genetics/metriocnemus/5_push1.0000.pth\"\n",
    "PROTOTYPE_COUNT = 20\n",
    "CLASS_COUNT = 8\n",
    "# CLASS_COUNT = 40"
   ]
  },
  {
   "cell_type": "code",
   "execution_count": 330,
   "metadata": {},
   "outputs": [],
   "source": [
    "ppnet = torch.load(WEIGHT_PATH).to(\"cpu\")"
   ]
  },
  {
   "cell_type": "code",
   "execution_count": 331,
   "metadata": {},
   "outputs": [],
   "source": [
    "codon_map_a = {\n",
    "    \"Phe\": [\"TTT\", \"TTC\"],\n",
    "    \"Leu\": [\"TTA\", \"TTG\", \"CTT\", \"CTC\", \"CTA\", \"CTG\"],\n",
    "    \"Ile\": [\"ATT\", \"ATC\", \"ATA\"],\n",
    "    \"Met\": [\"ATG\"],\n",
    "    \"Val\": [\"GTT\", \"GTC\", \"GTA\", \"GTG\"],\n",
    "    \"Ser\": [\"TCT\", \"TCC\", \"TCA\", \"TCG\", \"AGT\", \"AGC\"],\n",
    "    \"Pro\": [\"CCT\", \"CCC\", \"CCA\", \"CCG\"],\n",
    "    \"Thr\": [\"ACT\", \"ACC\", \"ACA\", \"ACG\"],\n",
    "    \"Ala\": [\"GCT\", \"GCC\", \"GCA\", \"GCG\"],\n",
    "    \"Tyr\": [\"TAT\", \"TAC\"],\n",
    "    \"Stop\": [\"TAA\", \"TAG\", \"TGA\"],\n",
    "    \"His\": [\"CAT\", \"CAC\"],\n",
    "    \"Gln\": [\"CAA\", \"CAG\"],\n",
    "    \"Asn\": [\"AAT\", \"AAC\"],\n",
    "    \"Lys\": [\"AAA\", \"AAG\"],\n",
    "    \"Asp\": [\"GAT\", \"GAC\"],\n",
    "    \"Glu\": [\"GAA\", \"GAG\"],\n",
    "    \"Cys\": [\"TGT\", \"TGC\"],\n",
    "    \"Trp\": [\"TGG\"],\n",
    "    \"Arg\": [\"CGT\", \"CGC\", \"CGA\", \"CGG\", \"AGA\", \"AGG\"],\n",
    "    \"Gly\": [\"GGT\", \"GGC\", \"GGA\", \"GGG\"],\n",
    "    \"None\": [\"NNN\"],\n",
    "}\n",
    "\n",
    "codon_map = {}\n",
    "\n",
    "for aa, codons in codon_map_a.items():\n",
    "    for codon in codons:\n",
    "        codon_map[codon] = aa"
   ]
  },
  {
   "cell_type": "code",
   "execution_count": 332,
   "metadata": {},
   "outputs": [],
   "source": [
    "train_dataset = GeneticDataset(TRAIN_PATH,\n",
    "                              \"onehot\", \n",
    "                              TAXONOMY_NAME,\n",
    "                              max_class_count=CLASS_COUNT,\n",
    "                              )\n",
    "\n",
    "validation_dataset = GeneticDataset(VALIDATION_PATH, \n",
    "                              \"onehot\",\n",
    "                              TAXONOMY_NAME,\n",
    "                              train_dataset.get_classes(TAXONOMY_NAME)[0])\n",
    "\n",
    "push_dataset = GeneticDataset(PUSH_PATH,\n",
    "                                \"onehot\", \n",
    "                                TAXONOMY_NAME,\n",
    "                                train_dataset.get_classes(TAXONOMY_NAME)[0],\n",
    "                                )"
   ]
  },
  {
   "cell_type": "code",
   "execution_count": 333,
   "metadata": {},
   "outputs": [],
   "source": [
    "prototype_df = pd.read_csv(PROTOTYPE_PATH)"
   ]
  },
  {
   "cell_type": "code",
   "execution_count": 334,
   "metadata": {},
   "outputs": [
    {
     "data": {
      "text/html": [
       "<div>\n",
       "<style scoped>\n",
       "    .dataframe tbody tr th:only-of-type {\n",
       "        vertical-align: middle;\n",
       "    }\n",
       "\n",
       "    .dataframe tbody tr th {\n",
       "        vertical-align: top;\n",
       "    }\n",
       "\n",
       "    .dataframe thead th {\n",
       "        text-align: right;\n",
       "    }\n",
       "</style>\n",
       "<table border=\"1\" class=\"dataframe\">\n",
       "  <thead>\n",
       "    <tr style=\"text-align: right;\">\n",
       "      <th></th>\n",
       "      <th>key</th>\n",
       "      <th>class_index</th>\n",
       "      <th>prototype_index</th>\n",
       "      <th>patch</th>\n",
       "    </tr>\n",
       "  </thead>\n",
       "  <tbody>\n",
       "    <tr>\n",
       "      <th>0</th>\n",
       "      <td>0</td>\n",
       "      <td>0</td>\n",
       "      <td>0</td>\n",
       "      <td>TTATATTTTATTTTTGGA</td>\n",
       "    </tr>\n",
       "    <tr>\n",
       "      <th>1</th>\n",
       "      <td>1</td>\n",
       "      <td>0</td>\n",
       "      <td>1</td>\n",
       "      <td>GGCTTGATCAGGAATAGT</td>\n",
       "    </tr>\n",
       "    <tr>\n",
       "      <th>2</th>\n",
       "      <td>5</td>\n",
       "      <td>0</td>\n",
       "      <td>5</td>\n",
       "      <td>ATTGGGGACGACCAAATT</td>\n",
       "    </tr>\n",
       "    <tr>\n",
       "      <th>3</th>\n",
       "      <td>6</td>\n",
       "      <td>0</td>\n",
       "      <td>6</td>\n",
       "      <td>CTATAATGTAATTGTTAC</td>\n",
       "    </tr>\n",
       "    <tr>\n",
       "      <th>4</th>\n",
       "      <td>7</td>\n",
       "      <td>0</td>\n",
       "      <td>7</td>\n",
       "      <td>CAGCACATGCCTTTGTAA</td>\n",
       "    </tr>\n",
       "    <tr>\n",
       "      <th>...</th>\n",
       "      <td>...</td>\n",
       "      <td>...</td>\n",
       "      <td>...</td>\n",
       "      <td>...</td>\n",
       "    </tr>\n",
       "    <tr>\n",
       "      <th>315</th>\n",
       "      <td>316</td>\n",
       "      <td>7</td>\n",
       "      <td>36</td>\n",
       "      <td>NNNNNNNNNNNNNNNNNN</td>\n",
       "    </tr>\n",
       "    <tr>\n",
       "      <th>316</th>\n",
       "      <td>317</td>\n",
       "      <td>7</td>\n",
       "      <td>37</td>\n",
       "      <td>NNNNNNNNNNNNNNNNNN</td>\n",
       "    </tr>\n",
       "    <tr>\n",
       "      <th>317</th>\n",
       "      <td>318</td>\n",
       "      <td>7</td>\n",
       "      <td>38</td>\n",
       "      <td>NNNNNNNNNNNNNNNNNN</td>\n",
       "    </tr>\n",
       "    <tr>\n",
       "      <th>318</th>\n",
       "      <td>319</td>\n",
       "      <td>7</td>\n",
       "      <td>39</td>\n",
       "      <td>NNNNNNNNNNNNNNNNNN</td>\n",
       "    </tr>\n",
       "    <tr>\n",
       "      <th>319</th>\n",
       "      <td>93</td>\n",
       "      <td>2</td>\n",
       "      <td>13</td>\n",
       "      <td>CCGGATAAATAATATAAG</td>\n",
       "    </tr>\n",
       "  </tbody>\n",
       "</table>\n",
       "<p>320 rows × 4 columns</p>\n",
       "</div>"
      ],
      "text/plain": [
       "     key  class_index  prototype_index               patch\n",
       "0      0            0                0  TTATATTTTATTTTTGGA\n",
       "1      1            0                1  GGCTTGATCAGGAATAGT\n",
       "2      5            0                5  ATTGGGGACGACCAAATT\n",
       "3      6            0                6  CTATAATGTAATTGTTAC\n",
       "4      7            0                7  CAGCACATGCCTTTGTAA\n",
       "..   ...          ...              ...                 ...\n",
       "315  316            7               36  NNNNNNNNNNNNNNNNNN\n",
       "316  317            7               37  NNNNNNNNNNNNNNNNNN\n",
       "317  318            7               38  NNNNNNNNNNNNNNNNNN\n",
       "318  319            7               39  NNNNNNNNNNNNNNNNNN\n",
       "319   93            2               13  CCGGATAAATAATATAAG\n",
       "\n",
       "[320 rows x 4 columns]"
      ]
     },
     "execution_count": 334,
     "metadata": {},
     "output_type": "execute_result"
    }
   ],
   "source": [
    "prototype_df"
   ]
  },
  {
   "cell_type": "code",
   "execution_count": 335,
   "metadata": {},
   "outputs": [],
   "source": [
    "prot_strings = [[\"\" for j in range(0,40)] for i in range(0, 40)]\n",
    "\n",
    "for i in range(0, len(prototype_df)):\n",
    "    class_index = prototype_df.iloc[i][\"class_index\"]\n",
    "    prototype_index = prototype_df.iloc[i][\"prototype_index\"]\n",
    "    string = prototype_df.iloc[i][\"patch\"]\n",
    "\n",
    "    prot_strings[class_index][prototype_index] = string\n",
    "\n",
    "full_strings = [\"\".join(string) for string in prot_strings]"
   ]
  },
  {
   "cell_type": "code",
   "execution_count": 336,
   "metadata": {},
   "outputs": [
    {
     "data": {
      "text/html": [
       "<div>\n",
       "<style scoped>\n",
       "    .dataframe tbody tr th:only-of-type {\n",
       "        vertical-align: middle;\n",
       "    }\n",
       "\n",
       "    .dataframe tbody tr th {\n",
       "        vertical-align: top;\n",
       "    }\n",
       "\n",
       "    .dataframe thead th {\n",
       "        text-align: right;\n",
       "    }\n",
       "</style>\n",
       "<table border=\"1\" class=\"dataframe\">\n",
       "  <thead>\n",
       "    <tr style=\"text-align: right;\">\n",
       "      <th></th>\n",
       "      <th>key</th>\n",
       "      <th>class_index</th>\n",
       "      <th>prototype_index</th>\n",
       "      <th>patch</th>\n",
       "    </tr>\n",
       "  </thead>\n",
       "  <tbody>\n",
       "    <tr>\n",
       "      <th>0</th>\n",
       "      <td>0</td>\n",
       "      <td>0</td>\n",
       "      <td>0</td>\n",
       "      <td>TTATATTTTATTTTTGGA</td>\n",
       "    </tr>\n",
       "    <tr>\n",
       "      <th>1</th>\n",
       "      <td>1</td>\n",
       "      <td>0</td>\n",
       "      <td>1</td>\n",
       "      <td>GGCTTGATCAGGAATAGT</td>\n",
       "    </tr>\n",
       "    <tr>\n",
       "      <th>2</th>\n",
       "      <td>5</td>\n",
       "      <td>0</td>\n",
       "      <td>5</td>\n",
       "      <td>ATTGGGGACGACCAAATT</td>\n",
       "    </tr>\n",
       "    <tr>\n",
       "      <th>3</th>\n",
       "      <td>6</td>\n",
       "      <td>0</td>\n",
       "      <td>6</td>\n",
       "      <td>CTATAATGTAATTGTTAC</td>\n",
       "    </tr>\n",
       "    <tr>\n",
       "      <th>4</th>\n",
       "      <td>7</td>\n",
       "      <td>0</td>\n",
       "      <td>7</td>\n",
       "      <td>CAGCACATGCCTTTGTAA</td>\n",
       "    </tr>\n",
       "    <tr>\n",
       "      <th>...</th>\n",
       "      <td>...</td>\n",
       "      <td>...</td>\n",
       "      <td>...</td>\n",
       "      <td>...</td>\n",
       "    </tr>\n",
       "    <tr>\n",
       "      <th>315</th>\n",
       "      <td>316</td>\n",
       "      <td>7</td>\n",
       "      <td>36</td>\n",
       "      <td>NNNNNNNNNNNNNNNNNN</td>\n",
       "    </tr>\n",
       "    <tr>\n",
       "      <th>316</th>\n",
       "      <td>317</td>\n",
       "      <td>7</td>\n",
       "      <td>37</td>\n",
       "      <td>NNNNNNNNNNNNNNNNNN</td>\n",
       "    </tr>\n",
       "    <tr>\n",
       "      <th>317</th>\n",
       "      <td>318</td>\n",
       "      <td>7</td>\n",
       "      <td>38</td>\n",
       "      <td>NNNNNNNNNNNNNNNNNN</td>\n",
       "    </tr>\n",
       "    <tr>\n",
       "      <th>318</th>\n",
       "      <td>319</td>\n",
       "      <td>7</td>\n",
       "      <td>39</td>\n",
       "      <td>NNNNNNNNNNNNNNNNNN</td>\n",
       "    </tr>\n",
       "    <tr>\n",
       "      <th>319</th>\n",
       "      <td>93</td>\n",
       "      <td>2</td>\n",
       "      <td>13</td>\n",
       "      <td>CCGGATAAATAATATAAG</td>\n",
       "    </tr>\n",
       "  </tbody>\n",
       "</table>\n",
       "<p>320 rows × 4 columns</p>\n",
       "</div>"
      ],
      "text/plain": [
       "     key  class_index  prototype_index               patch\n",
       "0      0            0                0  TTATATTTTATTTTTGGA\n",
       "1      1            0                1  GGCTTGATCAGGAATAGT\n",
       "2      5            0                5  ATTGGGGACGACCAAATT\n",
       "3      6            0                6  CTATAATGTAATTGTTAC\n",
       "4      7            0                7  CAGCACATGCCTTTGTAA\n",
       "..   ...          ...              ...                 ...\n",
       "315  316            7               36  NNNNNNNNNNNNNNNNNN\n",
       "316  317            7               37  NNNNNNNNNNNNNNNNNN\n",
       "317  318            7               38  NNNNNNNNNNNNNNNNNN\n",
       "318  319            7               39  NNNNNNNNNNNNNNNNNN\n",
       "319   93            2               13  CCGGATAAATAATATAAG\n",
       "\n",
       "[320 rows x 4 columns]"
      ]
     },
     "execution_count": 336,
     "metadata": {},
     "output_type": "execute_result"
    }
   ],
   "source": [
    "prototype_df"
   ]
  },
  {
   "cell_type": "code",
   "execution_count": 337,
   "metadata": {},
   "outputs": [],
   "source": [
    "encoder = GeneticOneHot(include_height_channel=True)\n",
    "tensors = [encoder(s) if s != \"\" else None for s in full_strings]"
   ]
  },
  {
   "cell_type": "code",
   "execution_count": 338,
   "metadata": {},
   "outputs": [
    {
     "name": "stdout",
     "output_type": "stream",
     "text": [
      "tensor([-0.9950, -0.9809, -0.9788, -0.9606, -0.9671, -0.8890, -0.9606, -0.9772,\n",
      "        -0.9831, -0.9845, -0.9930, -0.8803, -0.9229, -0.9796, -0.9080, -0.9714,\n",
      "        -0.8553, -0.9411, -0.9835, -0.9479, -0.9916, -0.9921, -0.9724, -1.0000,\n",
      "        -1.0000, -0.9896, -0.9597, -0.8869, -0.9788, -0.8553, -0.8368, -0.9592,\n",
      "        -1.0000, -0.9538, -0.9894, -0.9735, -0.9799, -1.0000, -1.0000, -1.0000])\n"
     ]
    }
   ],
   "source": [
    "print(ppnet(tensors[0].unsqueeze(0))[1][0,0:40])"
   ]
  },
  {
   "cell_type": "code",
   "execution_count": 339,
   "metadata": {},
   "outputs": [],
   "source": [
    "def find_matching_dims(input_tensor, prototype_tensors, class_index):\n",
    "    tensor = prototype_tensors[class_index]\n",
    "\n",
    "    if tensor is None:\n",
    "        print(\"No prototype tensor found for class index\", class_index)\n",
    "        return None\n",
    "    \n",
    "    if input_tensor.shape != tensor.shape:\n",
    "        print(\"Shape mismatch for class index\", class_index)\n",
    "        return None\n",
    "    \n",
    "    output = torch.eq(input_tensor, tensor)\n",
    "    # sum along the channel dimension\n",
    "    output = output.sum(0)\n",
    "    # integer divide by the number of channels\n",
    "    output = output // 4\n",
    "    return output[0]"
   ]
  },
  {
   "cell_type": "code",
   "execution_count": 340,
   "metadata": {},
   "outputs": [],
   "source": [
    "# Open the weights\n",
    "weights = ppnet.last_layer.weight\n",
    "\n",
    "class_weights = torch.zeros(CLASS_COUNT, 40)\n",
    "\n",
    "# Reshape the weights\n",
    "weights = weights.reshape(CLASS_COUNT, CLASS_COUNT, 40)\n",
    "\n",
    "for i in range(CLASS_COUNT):\n",
    "    for j in range(40):\n",
    "        class_weights[i][j] = weights[i][i][j]"
   ]
  },
  {
   "cell_type": "code",
   "execution_count": 341,
   "metadata": {},
   "outputs": [
    {
     "name": "stdout",
     "output_type": "stream",
     "text": [
      "torch.return_types.sort(\n",
      "values=tensor([[1.0799, 1.0787, 1.0762, 1.0703, 1.0458, 1.0422, 1.0418, 1.0374, 1.0371,\n",
      "         1.0361, 1.0358, 1.0339, 1.0322, 1.0312, 1.0299, 1.0287, 1.0270, 1.0259,\n",
      "         1.0247, 1.0238, 1.0238, 1.0225, 1.0224, 1.0209, 1.0201, 1.0194, 1.0186,\n",
      "         1.0126, 1.0126, 1.0123, 1.0110, 1.0109, 1.0102, 1.0080, 1.0059, 1.0059,\n",
      "         1.0058, 0.9972, 0.9888, 0.9692],\n",
      "        [1.0633, 1.0559, 1.0465, 1.0451, 1.0449, 1.0445, 1.0415, 1.0413, 1.0405,\n",
      "         1.0381, 1.0359, 1.0354, 1.0351, 1.0347, 1.0325, 1.0325, 1.0320, 1.0318,\n",
      "         1.0317, 1.0295, 1.0282, 1.0274, 1.0255, 1.0253, 1.0249, 1.0248, 1.0229,\n",
      "         1.0177, 1.0168, 1.0157, 1.0141, 1.0104, 1.0045, 1.0045, 1.0043, 1.0027,\n",
      "         0.9996, 0.9884, 0.9843, 0.9380],\n",
      "        [1.0746, 1.0624, 1.0608, 1.0601, 1.0595, 1.0593, 1.0586, 1.0585, 1.0580,\n",
      "         1.0565, 1.0539, 1.0521, 1.0438, 1.0438, 1.0411, 1.0391, 1.0325, 1.0294,\n",
      "         1.0287, 1.0287, 1.0282, 1.0274, 1.0273, 1.0268, 1.0263, 1.0228, 1.0225,\n",
      "         1.0209, 1.0206, 1.0182, 1.0161, 1.0157, 1.0146, 1.0060, 1.0058, 1.0018,\n",
      "         1.0013, 1.0013, 1.0007, 0.9832],\n",
      "        [1.1001, 1.0676, 1.0569, 1.0488, 1.0478, 1.0425, 1.0410, 1.0372, 1.0331,\n",
      "         1.0325, 1.0324, 1.0298, 1.0298, 1.0271, 1.0269, 1.0239, 1.0227, 1.0225,\n",
      "         1.0219, 1.0190, 1.0187, 1.0186, 1.0182, 1.0173, 1.0135, 1.0128, 1.0119,\n",
      "         1.0096, 1.0090, 1.0085, 1.0083, 1.0068, 1.0059, 1.0043, 1.0034, 1.0000,\n",
      "         1.0000, 0.9999, 0.9997, 0.9982],\n",
      "        [1.0667, 1.0457, 1.0447, 1.0410, 1.0396, 1.0370, 1.0309, 1.0302, 1.0291,\n",
      "         1.0289, 1.0280, 1.0268, 1.0264, 1.0249, 1.0249, 1.0240, 1.0202, 1.0197,\n",
      "         1.0196, 1.0174, 1.0156, 1.0145, 1.0135, 1.0127, 1.0118, 1.0117, 1.0098,\n",
      "         1.0094, 1.0074, 1.0073, 1.0073, 1.0071, 1.0069, 1.0058, 1.0040, 1.0008,\n",
      "         0.9993, 0.9910, 0.9910, 0.9908],\n",
      "        [1.0637, 1.0596, 1.0577, 1.0495, 1.0417, 1.0402, 1.0369, 1.0332, 1.0313,\n",
      "         1.0288, 1.0282, 1.0276, 1.0275, 1.0240, 1.0225, 1.0222, 1.0218, 1.0217,\n",
      "         1.0211, 1.0173, 1.0155, 1.0153, 1.0145, 1.0145, 1.0144, 1.0112, 1.0111,\n",
      "         1.0105, 1.0102, 1.0074, 1.0066, 1.0042, 1.0037, 1.0035, 1.0020, 1.0019,\n",
      "         1.0005, 0.9921, 0.9914, 0.9914],\n",
      "        [1.0718, 1.0614, 1.0391, 1.0374, 1.0359, 1.0358, 1.0354, 1.0333, 1.0332,\n",
      "         1.0329, 1.0328, 1.0289, 1.0284, 1.0284, 1.0230, 1.0218, 1.0203, 1.0200,\n",
      "         1.0198, 1.0195, 1.0184, 1.0173, 1.0170, 1.0170, 1.0168, 1.0162, 1.0158,\n",
      "         1.0156, 1.0150, 1.0134, 1.0132, 1.0106, 1.0093, 1.0077, 1.0071, 1.0043,\n",
      "         1.0027, 0.9965, 0.9919, 0.9919],\n",
      "        [1.0227, 1.0193, 1.0119, 1.0094, 1.0081, 1.0077, 1.0045, 1.0016, 0.9997,\n",
      "         0.9996, 0.9991, 0.9985, 0.9972, 0.9967, 0.9958, 0.9954, 0.9953, 0.9951,\n",
      "         0.9940, 0.9937, 0.9934, 0.9930, 0.9930, 0.9928, 0.9928, 0.9923, 0.9910,\n",
      "         0.9906, 0.9904, 0.9901, 0.9899, 0.9894, 0.9888, 0.9882, 0.9875, 0.9857,\n",
      "         0.9836, 0.9768, 0.9765, 0.9764]], grad_fn=<SortBackward0>),\n",
      "indices=tensor([[30, 21, 18, 20, 23, 27, 22, 31, 19, 28, 10, 16, 26,  7, 33,  4, 32, 34,\n",
      "         13,  6, 11,  2,  3, 14,  8, 25,  1, 38, 39, 29, 24,  0, 35,  9,  5, 37,\n",
      "         17, 36, 12, 15],\n",
      "        [23, 16, 36, 28, 21, 17, 26, 15,  2, 25, 18,  3, 33, 24, 27, 22, 10, 31,\n",
      "         14, 32, 13, 35,  7,  5,  4,  0, 20, 12, 11,  1, 34, 37, 39, 38,  9, 19,\n",
      "          6, 30,  8, 29],\n",
      "        [32, 31,  2, 11,  3, 21, 15, 22, 16, 18, 17, 19, 20, 33, 27, 23, 30,  4,\n",
      "         29, 12, 26,  6, 28, 36, 14, 24, 10, 13,  5,  7,  0,  1,  9, 25,  8, 35,\n",
      "         38, 39, 37, 34],\n",
      "        [16, 23, 33,  6, 17, 27, 28,  0, 10, 26, 15, 21, 29,  1, 30, 31, 18, 22,\n",
      "          7, 20, 32,  5,  9, 19,  2, 24, 11,  8,  4, 25,  3, 12, 36, 34, 14, 39,\n",
      "         38, 13, 35, 37],\n",
      "        [32, 28, 17, 26,  6, 20, 29, 33, 23, 18, 11,  3, 16, 15, 27, 10, 13,  4,\n",
      "         21,  2, 31, 14, 19,  7, 30, 24,  0,  5, 12, 25, 35,  1, 22, 34, 36,  9,\n",
      "          8, 39, 38, 37],\n",
      "        [10, 23, 11, 20, 21, 22, 32,  2, 14, 27, 30, 17, 13, 28, 16, 26, 31, 34,\n",
      "          3,  7, 15, 24, 18, 29,  6, 19,  5, 33,  4,  1, 12, 25, 35,  0, 36,  9,\n",
      "          8, 37, 39, 38],\n",
      "        [28,  6, 11, 27, 16, 18, 15,  1, 19, 20, 10, 17,  4, 24,  0, 33, 14, 22,\n",
      "          2, 34, 23, 26,  3,  5, 36, 32, 25, 31, 30, 21, 29,  7,  9, 35,  8, 13,\n",
      "         12, 37, 39, 38],\n",
      "        [19, 35, 28,  9, 29, 16, 14, 15, 36, 20, 34, 30, 13,  6, 10, 22, 27,  0,\n",
      "          1, 18,  4,  5, 32, 17, 31, 26, 23, 21, 11, 33,  3,  8,  2, 25, 24, 12,\n",
      "          7, 37, 39, 38]]))\n",
      "tensor([[30, 21, 18, 20, 23, 27, 22, 31, 19, 28, 10, 16, 26,  7, 33,  4, 32, 34,\n",
      "         13,  6, 11,  2,  3, 14,  8, 25,  1, 38, 39, 29, 24,  0, 35,  9,  5, 37,\n",
      "         17, 36, 12, 15],\n",
      "        [23, 16, 36, 28, 21, 17, 26, 15,  2, 25, 18,  3, 33, 24, 27, 22, 10, 31,\n",
      "         14, 32, 13, 35,  7,  5,  4,  0, 20, 12, 11,  1, 34, 37, 39, 38,  9, 19,\n",
      "          6, 30,  8, 29],\n",
      "        [32, 31,  2, 11,  3, 21, 15, 22, 16, 18, 17, 19, 20, 33, 27, 23, 30,  4,\n",
      "         29, 12, 26,  6, 28, 36, 14, 24, 10, 13,  5,  7,  0,  1,  9, 25,  8, 35,\n",
      "         38, 39, 37, 34],\n",
      "        [16, 23, 33,  6, 17, 27, 28,  0, 10, 26, 15, 21, 29,  1, 30, 31, 18, 22,\n",
      "          7, 20, 32,  5,  9, 19,  2, 24, 11,  8,  4, 25,  3, 12, 36, 34, 14, 39,\n",
      "         38, 13, 35, 37],\n",
      "        [32, 28, 17, 26,  6, 20, 29, 33, 23, 18, 11,  3, 16, 15, 27, 10, 13,  4,\n",
      "         21,  2, 31, 14, 19,  7, 30, 24,  0,  5, 12, 25, 35,  1, 22, 34, 36,  9,\n",
      "          8, 39, 38, 37],\n",
      "        [10, 23, 11, 20, 21, 22, 32,  2, 14, 27, 30, 17, 13, 28, 16, 26, 31, 34,\n",
      "          3,  7, 15, 24, 18, 29,  6, 19,  5, 33,  4,  1, 12, 25, 35,  0, 36,  9,\n",
      "          8, 37, 39, 38],\n",
      "        [28,  6, 11, 27, 16, 18, 15,  1, 19, 20, 10, 17,  4, 24,  0, 33, 14, 22,\n",
      "          2, 34, 23, 26,  3,  5, 36, 32, 25, 31, 30, 21, 29,  7,  9, 35,  8, 13,\n",
      "         12, 37, 39, 38],\n",
      "        [19, 35, 28,  9, 29, 16, 14, 15, 36, 20, 34, 30, 13,  6, 10, 22, 27,  0,\n",
      "          1, 18,  4,  5, 32, 17, 31, 26, 23, 21, 11, 33,  3,  8,  2, 25, 24, 12,\n",
      "          7, 37, 39, 38]])\n"
     ]
    }
   ],
   "source": [
    "sorted_prototype_indices = class_weights.argsort(descending=True, dim=1)\n",
    "print(class_weights.sort(descending=True, dim=1))\n",
    "print(sorted_prototype_indices)\n",
    "best_prototypes = sorted_prototype_indices[:, :PROTOTYPE_COUNT]"
   ]
  },
  {
   "cell_type": "code",
   "execution_count": 342,
   "metadata": {},
   "outputs": [],
   "source": [
    "def create_amino(string):\n",
    "    output = []\n",
    "    print(string)\n",
    "\n",
    "    for i in range(0, len(string), 3):\n",
    "        s = string[i:i+3]\n",
    "        if s in codon_map:\n",
    "            output.append(codon_map[s])\n",
    "        else:\n",
    "            output.append(\"None\")\n",
    "    \n",
    "    return output"
   ]
  },
  {
   "cell_type": "code",
   "execution_count": 343,
   "metadata": {},
   "outputs": [
    {
     "name": "stdout",
     "output_type": "stream",
     "text": [
      "tensor([0.9302, 0.9178, 0.7818, 0.8129, 0.9154, 0.8309, 0.7388, 0.7715, 0.8389,\n",
      "        0.8442, 0.9077, 0.8753, 0.7809, 0.8162, 0.8912, 0.8944, 0.9050, 0.8650,\n",
      "        0.8118, 0.9263, 0.8959, 0.8795, 0.8750, 0.8062, 0.9227, 0.8846, 0.8561,\n",
      "        0.8683, 0.9345, 0.9403, 0.8591, 0.8600, 0.8660, 0.7963, 0.9545, 0.7783,\n",
      "        0.7415, 0.7230, 0.7292, 0.8574])\n"
     ]
    }
   ],
   "source": [
    "gorp = ppnet(validation_dataset[0][0].unsqueeze(0))[1]\n",
    "# Reshape to have first dimension 40\n",
    "\n",
    "gorp = gorp.reshape(40, -1)\n",
    "\n",
    "print(-gorp.mean(1))"
   ]
  },
  {
   "cell_type": "code",
   "execution_count": 344,
   "metadata": {},
   "outputs": [],
   "source": [
    "def get_corresponding_strings(input_tensor, input_class_index, prototype_tensors, threshold, best_prototypes):\n",
    "    best_prototypes = best_prototypes[input_class_index]\n",
    "    act = -ppnet(input_tensor.unsqueeze(0))[1].reshape(CLASS_COUNT,-1)[input_class_index]\n",
    "\n",
    "    output = []\n",
    "\n",
    "    for p in best_prototypes:\n",
    "        if act[p] > threshold:\n",
    "            output.append((decode_onehot(prototype_tensors[input_class_index][:,:,p*18:(p+1)*18]), decode_onehot(input_tensor[:,:,p*18:(p+1)*18], True), float(act[p]), p))\n",
    "\n",
    "    return output\n"
   ]
  },
  {
   "cell_type": "code",
   "execution_count": 345,
   "metadata": {},
   "outputs": [],
   "source": [
    "def display_pair(prototype_string, input_string, act):\n",
    "    print(input_string)\n",
    "    for i, c in enumerate(prototype_string):\n",
    "        plt.text(.05 * i+.05, 0.5, c, fontsize=18, ha='center', va='center')\n",
    "        plt.text(.05 * i+.05, 0.4, input_string[i], fontsize=18, ha='center', va='center')\n",
    "        # Color the squares based on whether the character matches the prototype\n",
    "        if c == input_string[i]:\n",
    "            plt.gca().add_patch(plt.Rectangle((.05 * i+.025, 0.35), .05, .2, fill=True, color='green'))\n",
    "        else:\n",
    "            plt.gca().add_patch(plt.Rectangle((.05 * i+.025, 0.35), .05, .2, fill=True, color='red'))\n",
    "\n",
    "    # Resize plot image\n",
    "    plt.gcf().set_size_inches(10, 2)\n",
    "    plt.ylim(.35, .55)\n",
    "    plt.xlim(.025, .925)\n",
    "\n",
    "    # Hide plot axis\n",
    "    plt.axis('off')\n",
    "    plt.show()"
   ]
  },
  {
   "cell_type": "code",
   "execution_count": 404,
   "metadata": {},
   "outputs": [
    {
     "name": "stdout",
     "output_type": "stream",
     "text": [
      "CTCCTCAATGTTAGGGGC\n",
      "tensor(1)\n",
      "TTCTTTACCTGTATTAGC\n",
      "0 0.9233847856521606 tensor(23)\n",
      "TATCTCCTCAATGTTAGG\n"
     ]
    },
    {
     "data": {
      "image/png": "[encoded data removed]",
      "text/plain": [
       "<Figure size 1000x200 with 1 Axes>"
      ]
     },
     "metadata": {},
     "output_type": "display_data"
    },
    {
     "name": "stdout",
     "output_type": "stream",
     "text": [
      "1 0.9781917333602905 tensor(16)\n",
      "ATTATCTAGATCAATTGT\n"
     ]
    },
    {
     "data": {
      "image/png": "[encoded data removed]",
      "text/plain": [
       "<Figure size 1000x200 with 1 Axes>"
      ]
     },
     "metadata": {},
     "output_type": "display_data"
    },
    {
     "name": "stdout",
     "output_type": "stream",
     "text": [
      "2 0.6447030901908875 tensor(36)\n",
      "ACACTTATTTNNNNNNNN\n"
     ]
    },
    {
     "data": {
      "image/png": "[encoded data removed]",
      "text/plain": [
       "<Figure size 1000x200 with 1 Axes>"
      ]
     },
     "metadata": {},
     "output_type": "display_data"
    },
    {
     "name": "stdout",
     "output_type": "stream",
     "text": [
      "3 0.9805758595466614 tensor(28)\n",
      "TGTCTGATCTGTAATTAT\n"
     ]
    },
    {
     "data": {
      "image/png": "[encoded data removed]",
      "text/plain": [
       "<Figure size 1000x200 with 1 Axes>"
      ]
     },
     "metadata": {},
     "output_type": "display_data"
    },
    {
     "name": "stdout",
     "output_type": "stream",
     "text": [
      "4 0.9778662323951721 tensor(21)\n",
      "TGTTGATTTAGCTATTTT\n"
     ]
    },
    {
     "data": {
      "image/png": "[encoded data removed]",
      "text/plain": [
       "<Figure size 1000x200 with 1 Axes>"
      ]
     },
     "metadata": {},
     "output_type": "display_data"
    },
    {
     "name": "stdout",
     "output_type": "stream",
     "text": [
      "5 0.9225066900253296 tensor(17)\n",
      "TGAAAATGGGGCTGGGAC\n"
     ]
    },
    {
     "data": {
      "image/png": "[encoded data removed]",
      "text/plain": [
       "<Figure size 1000x200 with 1 Axes>"
      ]
     },
     "metadata": {},
     "output_type": "display_data"
    },
    {
     "name": "stdout",
     "output_type": "stream",
     "text": [
      "6 0.7630235552787781 tensor(26)\n",
      "GTCAGAAGGAATTTCTTT\n"
     ]
    },
    {
     "data": {
      "image/png": "[encoded data removed]",
      "text/plain": [
       "<Figure size 1000x200 with 1 Axes>"
      ]
     },
     "metadata": {},
     "output_type": "display_data"
    },
    {
     "name": "stdout",
     "output_type": "stream",
     "text": [
      "7 0.7464091777801514 tensor(15)\n",
      "CCCTTCATTAACTTTATT\n"
     ]
    },
    {
     "data": {
      "image/png": "[encoded data removed]",
      "text/plain": [
       "<Figure size 1000x200 with 1 Axes>"
      ]
     },
     "metadata": {},
     "output_type": "display_data"
    },
    {
     "name": "stdout",
     "output_type": "stream",
     "text": [
      "8 0.8027307391166687 tensor(2)\n",
      "AGTAGGTACTTCTTTAAG\n"
     ]
    },
    {
     "data": {
      "image/png": "[encoded data removed]",
      "text/plain": [
       "<Figure size 1000x200 with 1 Axes>"
      ]
     },
     "metadata": {},
     "output_type": "display_data"
    },
    {
     "name": "stdout",
     "output_type": "stream",
     "text": [
      "9 0.9632879495620728 tensor(25)\n",
      "AACAGTAATTAATATACG\n"
     ]
    },
    {
     "data": {
      "image/png": "[encoded data removed]",
      "text/plain": [
       "<Figure size 1000x200 with 1 Axes>"
      ]
     },
     "metadata": {},
     "output_type": "display_data"
    },
    {
     "name": "stdout",
     "output_type": "stream",
     "text": [
      "10 0.9276748299598694 tensor(18)\n",
      "AGGTTGAACTGTTTACCC\n"
     ]
    },
    {
     "data": {
      "image/png": "[encoded data removed]",
      "text/plain": [
       "<Figure size 1000x200 with 1 Axes>"
      ]
     },
     "metadata": {},
     "output_type": "display_data"
    },
    {
     "name": "stdout",
     "output_type": "stream",
     "text": [
      "11 0.9744587540626526 tensor(3)\n",
      "AATTTTAATTCGAGCAGA\n"
     ]
    },
    {
     "data": {
      "image/png": "[encoded data removed]",
      "text/plain": [
       "<Figure size 1000x200 with 1 Axes>"
      ]
     },
     "metadata": {},
     "output_type": "display_data"
    },
    {
     "name": "stdout",
     "output_type": "stream",
     "text": [
      "12 0.9390822649002075 tensor(33)\n",
      "TTTAAATACTTCTTTCTT\n"
     ]
    },
    {
     "data": {
      "image/png": "[encoded data removed]",
      "text/plain": [
       "<Figure size 1000x200 with 1 Axes>"
      ]
     },
     "metadata": {},
     "output_type": "display_data"
    },
    {
     "name": "stdout",
     "output_type": "stream",
     "text": [
      "13 0.9242153763771057 tensor(24)\n",
      "GGCTGTAAATTTTATCAC\n"
     ]
    },
    {
     "data": {
      "image/png": "[encoded data removed]",
      "text/plain": [
       "<Figure size 1000x200 with 1 Axes>"
      ]
     },
     "metadata": {},
     "output_type": "display_data"
    },
    {
     "name": "stdout",
     "output_type": "stream",
     "text": [
      "14 0.9698474407196045 tensor(27)\n",
      "TGATCGTATGCCATTATT\n"
     ]
    },
    {
     "data": {
      "image/png": "[encoded data removed]",
      "text/plain": [
       "<Figure size 1000x200 with 1 Axes>"
      ]
     },
     "metadata": {},
     "output_type": "display_data"
    },
    {
     "name": "stdout",
     "output_type": "stream",
     "text": [
      "15 0.9520635604858398 tensor(22)\n",
      "TTCATTACATTTAGCAGG\n"
     ]
    },
    {
     "data": {
      "image/png": "[encoded data removed]",
      "text/plain": [
       "<Figure size 1000x200 with 1 Axes>"
      ]
     },
     "metadata": {},
     "output_type": "display_data"
    },
    {
     "name": "stdout",
     "output_type": "stream",
     "text": [
      "16 0.9391674399375916 tensor(10)\n",
      "GGGATTTGGTAACTGATT\n"
     ]
    },
    {
     "data": {
      "image/png": "[encoded data removed]",
      "text/plain": [
       "<Figure size 1000x200 with 1 Axes>"
      ]
     },
     "metadata": {},
     "output_type": "display_data"
    },
    {
     "name": "stdout",
     "output_type": "stream",
     "text": [
      "17 0.9663612246513367 tensor(31)\n",
      "AGCAGGAGCAATCACTAT\n"
     ]
    },
    {
     "data": {
      "image/png": "[encoded data removed]",
      "text/plain": [
       "<Figure size 1000x200 with 1 Axes>"
      ]
     },
     "metadata": {},
     "output_type": "display_data"
    },
    {
     "name": "stdout",
     "output_type": "stream",
     "text": [
      "18 0.9999999403953552 tensor(14)\n",
      "AAGATTCTGATTATTGCC\n"
     ]
    },
    {
     "data": {
      "image/png": "[encoded data removed]",
      "text/plain": [
       "<Figure size 1000x200 with 1 Axes>"
      ]
     },
     "metadata": {},
     "output_type": "display_data"
    },
    {
     "name": "stdout",
     "output_type": "stream",
     "text": [
      "19 0.9469649791717529 tensor(32)\n",
      "ACTTTTAACAGATCGAAA\n"
     ]
    },
    {
     "data": {
      "image/png": "[encoded data removed]",
      "text/plain": [
       "<Figure size 1000x200 with 1 Axes>"
      ]
     },
     "metadata": {},
     "output_type": "display_data"
    }
   ],
   "source": [
    "# o = get_corresponding_strings(validation_dataset[0][0], validation_dataset[0][1], tensors, 0, best_prototypes)\n",
    "\n",
    "a = decode_onehot(push_dataset[7][0], True)\n",
    "a2 = a[:426] + \"G\" + a[427:]\n",
    "# a2 = a[:421] + \"A\" + a[422:]\n",
    "\n",
    "o = get_corresponding_strings(encoder(a2), 1, tensors, 0, best_prototypes)\n",
    "# o = get_corresponding_strings(push_dataset[7][0], 1, tensors, 0, best_prototypes)\n",
    "# o = get_corresponding_strings(validation_dataset[0][0], 1, tensors, 0.5, best_prototypes)\n",
    "\n",
    "print(a2[417:435])\n",
    "\n",
    "print(push_dataset[7][1])\n",
    "\n",
    "print(decode_onehot(validation_dataset[0][0], True)[30*18:31*18])\n",
    "\n",
    "# print(validation_dataset[0][1])\n",
    "# print(best_prototypes[0])\n",
    "\n",
    "for idx, (p, i, a, p_2) in enumerate(o):\n",
    "    print(idx, a, p_2)\n",
    "    display_pair(p, i, 0)\n",
    "\n",
    "# T - .906S\n",
    "# A - .850\n",
    "# C - Same\n",
    "# G - .923"
   ]
  },
  {
   "cell_type": "code",
   "execution_count": 347,
   "metadata": {},
   "outputs": [],
   "source": [
    "# for i in range(PROTOTYPE_COUNT):\n",
    "#     string = decode_onehot(input_tensor[0].numpy(), three_dim=True)\n",
    "\n",
    "#     # print(string[best_prototypes[9][i]*18:(best_prototypes[9][i]+1)*18])\n",
    "#     # print(\"\")\n",
    "\n",
    "#     # Draw 18 squares each with one character of prot using matplotlib\n",
    "#     prot = prot_strings[prototype_class_index][int(best_prototypes[prototype_class_index][i])]\n",
    "#     corresponding = string[best_prototypes[prototype_class_index][i]*18:(best_prototypes[prototype_class_index][i]+1)*18]\n",
    "\n",
    "#     # This only works since prototypes are length 0 mod 3\n",
    "#     prot_amino = create_amino(prot)\n",
    "#     string_amino = create_amino(corresponding)\n",
    "#     print(prot_amino)\n",
    "#     print(string_amino)\n",
    "\n",
    "#     for i, c in enumerate(prot):\n",
    "#         plt.text(.05 * i+.05, 0.5, c, fontsize=18, ha='center', va='center')\n",
    "#         plt.text(.05 * i+.05, 0.4, corresponding[i], fontsize=18, ha='center', va='center')\n",
    "#         # Color the squares based on whether the character matches the prototype\n",
    "#         if c == corresponding[i]:\n",
    "#             plt.gca().add_patch(plt.Rectangle((.05 * i+.025, 0.35), .05, .2, fill=True, color='green'))\n",
    "#         else:\n",
    "#             plt.gca().add_patch(plt.Rectangle((.05 * i+.025, 0.35), .05, .2, fill=True, color='red'))\n",
    "\n",
    "#     # Resize plot image\n",
    "#     plt.gcf().set_size_inches(10, 2)\n",
    "#     plt.ylim(.35, .55)\n",
    "#     plt.xlim(.025, .925)\n",
    "\n",
    "#     # Hide plot axis\n",
    "#     plt.axis('off')\n",
    "#     plt.show()"
   ]
  },
  {
   "cell_type": "code",
   "execution_count": 348,
   "metadata": {},
   "outputs": [
    {
     "data": {
      "image/png": "[encoded data removed]",
      "text/plain": [
       "<Figure size 640x480 with 1 Axes>"
      ]
     },
     "metadata": {},
     "output_type": "display_data"
    }
   ],
   "source": [
    "s = [[], []]\n",
    "\n",
    "for sample in validation_dataset:\n",
    "    o = get_corresponding_strings(sample[0], 1, tensors, 0, best_prototypes)\n",
    "    l = 0\n",
    "    for p, i, a, p_2 in o[:5]:\n",
    "        l += a/5\n",
    "    s[1 if sample[1] == 1 else 0].append(l)\n",
    "\n",
    "\n",
    "\n",
    "# Remove empty lists\n",
    "w = [[1 / len(y) for x in y] for y in s if y]\n",
    "\n",
    "# Plot histogram of activations\n",
    "plt.hist([a for a in s if a], bins=20, weights=w, label=[str(i) for i in range(8)])\n",
    "\n",
    "plt.title(\"Average activation on top 5 Albolineatus Prototypes\")\n",
    "plt.xlabel(\"Activation\")\n",
    "plt.ylabel(\"Relative Frequency\")\n",
    "plt.legend([\"Not Albolineatus\", \"Albolineatus\"])\n",
    "pass"
   ]
  },
  {
   "cell_type": "code",
   "execution_count": 349,
   "metadata": {},
   "outputs": [],
   "source": [
    "is_best_prototype_location = torch.zeros(CLASS_COUNT, 40*18)\n",
    "\n",
    "for i in range(CLASS_COUNT):\n",
    "    best_prototypes_for_class = best_prototypes[i]\n",
    "\n",
    "    for ind, j in enumerate(best_prototypes_for_class):\n",
    "        # is_best_prototype_location[i][j*18:(j+1)*18] = (10 - ind) / 10\n",
    "        is_best_prototype_location[i][j*18:(j+1)*18] = 1"
   ]
  },
  {
   "cell_type": "code",
   "execution_count": 350,
   "metadata": {},
   "outputs": [
    {
     "data": {
      "image/png": "[encoded data removed]",
      "text/plain": [
       "<Figure size 640x480 with 1 Axes>"
      ]
     },
     "metadata": {},
     "output_type": "display_data"
    }
   ],
   "source": [
    "# Draw the heatmap\n",
    "import matplotlib.pyplot as plt\n",
    "\n",
    "classes = train_dataset.get_classes(TAXONOMY_NAME)[0]\n",
    "\n",
    "plt.imshow(is_best_prototype_location, cmap='hot', interpolation='nearest')\n",
    "plt.title(\"Best Prototype Locations\")\n",
    "plt.ylabel(TAXONOMY_NAME.capitalize())\n",
    "plt.xlabel(\"Position\")\n",
    "\n",
    "# Set the y axis labels to the class names, make them diagonal\n",
    "plt.yticks(range(CLASS_COUNT), classes)\n",
    "# Decrease the y axis label font size\n",
    "plt.yticks(fontsize=6)\n",
    "\n",
    "# Make its aspect ratio 2:1\n",
    "# plt.gca().set_aspect('auto', adjustable='box',)\n",
    "plt.gca().set_aspect(20)\n"
   ]
  }
 ],
 "metadata": {
  "kernelspec": {
   "display_name": "intnn",
   "language": "python",
   "name": "python3"
  },
  "language_info": {
   "codemirror_mode": {
    "name": "ipython",
    "version": 3
   },
   "file_extension": ".py",
   "mimetype": "text/x-python",
   "name": "python",
   "nbconvert_exporter": "python",
   "pygments_lexer": "ipython3",
   "version": "3.10.12"
  }
 },
 "nbformat": 4,
 "nbformat_minor": 2
}
